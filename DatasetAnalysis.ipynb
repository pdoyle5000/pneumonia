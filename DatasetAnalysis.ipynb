{
 "cells": [
  {
   "cell_type": "markdown",
   "metadata": {},
   "source": [
    "## Dataset Analysis: Simple JPEG set (No bounding boxes.)"
   ]
  },
  {
   "cell_type": "code",
   "execution_count": 2,
   "metadata": {},
   "outputs": [],
   "source": [
    "# print distributions\n",
    "# get global stddev and mean\n",
    "# get min/max/mean/median height-width to help inform size for CNN"
   ]
  },
  {
   "cell_type": "code",
   "execution_count": 1,
   "metadata": {},
   "outputs": [],
   "source": [
    "import os\n",
    "from PIL import Image\n",
    "base_dir = \"/ssd/datasets/chest_xray\"\n",
    "\n",
    "# Using the dir structure of dataset/classification, create a metadata\n",
    "# representation in json format.\n",
    "metadata = []\n",
    "classifications = [\"NORMAL\", \"PNEUMONIA\"]\n",
    "for dataset_dir in ['val', 'test', 'train']:\n",
    "    for classification in os.listdir(os.path.join(base_dir, dataset_dir)):\n",
    "        for image in os.listdir(os.path.join(base_dir, dataset_dir, classification)):\n",
    "            if \".jpeg\" in image:\n",
    "                metadata.append({\n",
    "                    \"image\": os.path.join(dataset_dir, classification, image),\n",
    "                    \"set\": dataset_dir,\n",
    "                    \"label\": classifications.index(classification),\n",
    "                })\n",
    "                \n",
    "def add_dims(record: dict) -> dict:\n",
    "    w, h = Image.open(os.path.join(base_dir, record[\"image\"])).convert(\"L\").size\n",
    "    record[\"width\"] = w\n",
    "    record[\"height\"] = h\n",
    "    return record\n",
    "    \n",
    "                \n",
    "metadata = [add_dims(record) for record in metadata]"
   ]
  },
  {
   "cell_type": "code",
   "execution_count": 13,
   "metadata": {},
   "outputs": [],
   "source": [
    "# dump to file\n",
    "import json\n",
    "with open(os.path.join(base_dir, \"metadata.json\"), \"w\") as f:\n",
    "    json.dump(metadata, f, indent=2)"
   ]
  },
  {
   "cell_type": "code",
   "execution_count": 14,
   "metadata": {},
   "outputs": [],
   "source": [
    "heights = [record[\"height\"] for record in metadata]\n",
    "widths = [record[\"width\"] for record in metadata]"
   ]
  },
  {
   "cell_type": "code",
   "execution_count": 24,
   "metadata": {},
   "outputs": [
    {
     "name": "stdout",
     "output_type": "stream",
     "text": [
      "Height:\n",
      "Max: 2713, Min: 127, Mean: 970.6890368852459, Median: 888.0\n"
     ]
    }
   ],
   "source": [
    "import numpy as np\n",
    "print(f\"Height:\\nMax: {max(heights)}, Min: {min(heights)}, Mean: {np.mean(heights)}, Median: {np.median(heights)}\")"
   ]
  },
  {
   "cell_type": "code",
   "execution_count": 26,
   "metadata": {},
   "outputs": [
    {
     "name": "stdout",
     "output_type": "stream",
     "text": [
      "Width:\n",
      "Max: 2916, Min: 384, Mean: 1327.880806010929, Median: 1281.0\n"
     ]
    }
   ],
   "source": [
    "print(f\"Width:\\nMax: {max(widths)}, Min: {min(widths)}, Mean: {np.mean(widths)}, Median: {np.median(widths)}\")"
   ]
  },
  {
   "cell_type": "code",
   "execution_count": 28,
   "metadata": {},
   "outputs": [
    {
     "name": "stderr",
     "output_type": "stream",
     "text": [
      "100%|██████████| 5856/5856 [01:14<00:00, 78.78it/s] "
     ]
    },
    {
     "name": "stdout",
     "output_type": "stream",
     "text": [
      "Global Std-dev: 0.03684682087550211. Global Mean: 0.4815147875163741\n"
     ]
    },
    {
     "name": "stderr",
     "output_type": "stream",
     "text": [
      "\n"
     ]
    }
   ],
   "source": [
    "# we should try with a resize of 256x256 and move it up as a parameter tuner.\n",
    "# next, get global stddev and mean.\n",
    "stds = []\n",
    "means = []\n",
    "from tqdm import tqdm\n",
    "for record in tqdm(metadata):\n",
    "    image = Image.open(os.path.join(base_dir, record[\"image\"])).convert(\"L\")\n",
    "    image = np.array(image)\n",
    "    stds.append(np.std(np.divide(image, 255)))\n",
    "    means.append(np.mean(np.divide(image, 255)))\n",
    "print(f\"Global Std-dev: {np.std(stds)}. Global Mean: {np.mean(means)}\")\n"
   ]
  },
  {
   "cell_type": "code",
   "execution_count": 30,
   "metadata": {},
   "outputs": [],
   "source": [
    "global_std = np.std(stds)\n",
    "global_mean = np.mean(means)\n",
    "with open(os.path.join(base_dir, \"global_params.json\"), \"w\") as f:\n",
    "    json.dump({\n",
    "        \"channel_mean\": global_mean, \n",
    "        \"channel_std\": global_std,\n",
    "        \"input_width\": 256,\n",
    "        \"input_height\": 256\n",
    "    }, f, indent=2)"
   ]
  },
  {
   "cell_type": "code",
   "execution_count": 3,
   "metadata": {},
   "outputs": [
    {
     "name": "stdout",
     "output_type": "stream",
     "text": [
      "Training\n",
      "Normal: 1341\tPneumonia: 3875\n"
     ]
    }
   ],
   "source": [
    "# Distributions:\n",
    "train_normal = [record for record in metadata if record[\"set\"] == \"train\" and record[\"label\"] == 0]\n",
    "train_pneu = [record for record in metadata if record[\"set\"] == \"train\" and record[\"label\"] == 1]\n",
    "print(f\"Training\\nNormal: {len(train_normal)}\\tPneumonia: {len(train_pneu)}\")"
   ]
  },
  {
   "cell_type": "code",
   "execution_count": 4,
   "metadata": {},
   "outputs": [
    {
     "name": "stdout",
     "output_type": "stream",
     "text": [
      "Testig\n",
      "Normal: 234\tPneumonia: 390\n"
     ]
    }
   ],
   "source": [
    "test_normal = [record for record in metadata if record[\"set\"] == \"test\" and record[\"label\"] == 0]\n",
    "test_pneu = [record for record in metadata if record[\"set\"] == \"test\" and record[\"label\"] == 1]\n",
    "print(f\"Testing\\nNormal: {len(test_normal)}\\tPneumonia: {len(test_pneu)}\")"
   ]
  },
  {
   "cell_type": "code",
   "execution_count": 5,
   "metadata": {},
   "outputs": [
    {
     "data": {
      "text/plain": [
       "0.375"
      ]
     },
     "execution_count": 5,
     "metadata": {},
     "output_type": "execute_result"
    }
   ],
   "source": [
    "234/(390 + 234)"
   ]
  },
  {
   "cell_type": "code",
   "execution_count": 6,
   "metadata": {},
   "outputs": [
    {
     "data": {
      "text/plain": [
       "0.5701754385964912"
      ]
     },
     "execution_count": 6,
     "metadata": {},
     "output_type": "execute_result"
    }
   ],
   "source": [
    "390/(390+294)"
   ]
  },
  {
   "cell_type": "code",
   "execution_count": null,
   "metadata": {},
   "outputs": [],
   "source": [
    "# by saying everyone has pneumonia we can be 57% correct."
   ]
  }
 ],
 "metadata": {
  "kernelspec": {
   "display_name": "Python 3",
   "language": "python",
   "name": "python3"
  },
  "language_info": {
   "codemirror_mode": {
    "name": "ipython",
    "version": 3
   },
   "file_extension": ".py",
   "mimetype": "text/x-python",
   "name": "python",
   "nbconvert_exporter": "python",
   "pygments_lexer": "ipython3",
   "version": "3.6.6"
  }
 },
 "nbformat": 4,
 "nbformat_minor": 2
}
