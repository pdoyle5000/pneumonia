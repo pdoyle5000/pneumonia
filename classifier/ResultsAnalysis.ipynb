{
 "cells": [
  {
   "cell_type": "code",
   "execution_count": 1,
   "metadata": {},
   "outputs": [
    {
     "data": {
      "text/plain": [
       "SimpleNet(\n",
       "  (conv1): Sequential(\n",
       "    (0): Conv2d(1, 64, kernel_size=(3, 3), stride=(1, 1), padding=(1, 1))\n",
       "    (1): BatchNorm2d(64, eps=1e-05, momentum=0.05, affine=True, track_running_stats=True)\n",
       "    (2): ReLU(inplace=True)\n",
       "  )\n",
       "  (conv2): Sequential(\n",
       "    (0): Conv2d(64, 128, kernel_size=(3, 3), stride=(1, 1), padding=(1, 1))\n",
       "    (1): BatchNorm2d(128, eps=1e-05, momentum=0.05, affine=True, track_running_stats=True)\n",
       "    (2): ReLU(inplace=True)\n",
       "  )\n",
       "  (conv3): Sequential(\n",
       "    (0): Conv2d(128, 128, kernel_size=(3, 3), stride=(1, 1), padding=(1, 1))\n",
       "    (1): BatchNorm2d(128, eps=1e-05, momentum=0.05, affine=True, track_running_stats=True)\n",
       "    (2): ReLU(inplace=True)\n",
       "  )\n",
       "  (conv4): Sequential(\n",
       "    (0): Conv2d(128, 128, kernel_size=(3, 3), stride=(1, 1), padding=(1, 1))\n",
       "    (1): ReLU(inplace=True)\n",
       "    (2): MaxPool2d(kernel_size=2, stride=2, padding=0, dilation=1, ceil_mode=False)\n",
       "    (3): Dropout2d(p=0.1, inplace=False)\n",
       "  )\n",
       "  (conv5): Sequential(\n",
       "    (0): Conv2d(128, 128, kernel_size=(3, 3), stride=(1, 1), padding=(1, 1))\n",
       "    (1): BatchNorm2d(128, eps=1e-05, momentum=0.05, affine=True, track_running_stats=True)\n",
       "    (2): ReLU(inplace=True)\n",
       "  )\n",
       "  (conv6): Sequential(\n",
       "    (0): Conv2d(128, 128, kernel_size=(3, 3), stride=(1, 1), padding=(1, 1))\n",
       "    (1): BatchNorm2d(128, eps=1e-05, momentum=0.05, affine=True, track_running_stats=True)\n",
       "    (2): ReLU(inplace=True)\n",
       "  )\n",
       "  (conv7): Sequential(\n",
       "    (0): Conv2d(128, 256, kernel_size=(3, 3), stride=(1, 1), padding=(1, 1))\n",
       "    (1): ReLU(inplace=True)\n",
       "    (2): MaxPool2d(kernel_size=2, stride=2, padding=0, dilation=1, ceil_mode=False)\n",
       "    (3): Dropout2d(p=0.1, inplace=False)\n",
       "  )\n",
       "  (conv8): Sequential(\n",
       "    (0): Conv2d(256, 256, kernel_size=(3, 3), stride=(1, 1), padding=(1, 1))\n",
       "    (1): BatchNorm2d(256, eps=1e-05, momentum=0.05, affine=True, track_running_stats=True)\n",
       "    (2): ReLU(inplace=True)\n",
       "  )\n",
       "  (conv9): Sequential(\n",
       "    (0): Conv2d(256, 256, kernel_size=(3, 3), stride=(1, 1), padding=(1, 1))\n",
       "    (1): ReLU(inplace=True)\n",
       "    (2): MaxPool2d(kernel_size=2, stride=2, padding=0, dilation=1, ceil_mode=False)\n",
       "    (3): Dropout2d(p=0.1, inplace=False)\n",
       "  )\n",
       "  (conv10): Sequential(\n",
       "    (0): Conv2d(256, 512, kernel_size=(3, 3), stride=(1, 1), padding=(1, 1))\n",
       "    (1): ReLU(inplace=True)\n",
       "    (2): MaxPool2d(kernel_size=2, stride=2, padding=0, dilation=1, ceil_mode=False)\n",
       "    (3): Dropout2d(p=0.1, inplace=False)\n",
       "  )\n",
       "  (conv11): Sequential(\n",
       "    (0): Conv2d(512, 2048, kernel_size=(1, 1), stride=(1, 1), padding=(1, 1))\n",
       "    (1): BatchNorm2d(2048, eps=1e-05, momentum=0.05, affine=True, track_running_stats=True)\n",
       "    (2): ReLU(inplace=True)\n",
       "  )\n",
       "  (conv12): Sequential(\n",
       "    (0): Conv2d(2048, 1024, kernel_size=(1, 1), stride=(1, 1), padding=(1, 1))\n",
       "    (1): ReLU(inplace=True)\n",
       "    (2): MaxPool2d(kernel_size=2, stride=2, padding=0, dilation=1, ceil_mode=False)\n",
       "    (3): Dropout2d(p=0.1, inplace=False)\n",
       "  )\n",
       "  (largefc): Linear(in_features=1024, out_features=256, bias=True)\n",
       "  (dense): Linear(in_features=256, out_features=1, bias=True)\n",
       ")"
      ]
     },
     "execution_count": 1,
     "metadata": {},
     "output_type": "execute_result"
    }
   ],
   "source": [
    "# open model\n",
    "from simple_net import SimpleNet\n",
    "import torch\n",
    "\n",
    "model = SimpleNet(1)\n",
    "model.load_state_dict(torch.load(\"largefc1_attempt2.pth\"))\n",
    "model.eval()"
   ]
  },
  {
   "cell_type": "code",
   "execution_count": 2,
   "metadata": {},
   "outputs": [
    {
     "data": {
      "text/plain": [
       "624"
      ]
     },
     "execution_count": 2,
     "metadata": {},
     "output_type": "execute_result"
    }
   ],
   "source": [
    "# open test dataset\n",
    "from dataset import PneumoniaDataset, SetType\n",
    "test_set = PneumoniaDataset(SetType.test, shuffle=False)\n",
    "len(test_set)"
   ]
  },
  {
   "cell_type": "code",
   "execution_count": 4,
   "metadata": {},
   "outputs": [
    {
     "name": "stderr",
     "output_type": "stream",
     "text": [
      "100%|██████████| 624/624 [02:40<00:00,  3.90it/s]\n"
     ]
    }
   ],
   "source": [
    "import numpy as np\n",
    "from tqdm import tqdm\n",
    "\n",
    "def predict(model_output):\n",
    "    sigmoid = torch.nn.Sigmoid()\n",
    "    return sigmoid(model_output).item()\n",
    "\n",
    "def threshold(prediction):\n",
    "   # if prediction > .5, return 1, else 0\n",
    "    return np.round(prediction)\n",
    "    #return 1.0 if prediction > 0.89 else 0.0\n",
    "\n",
    "results = {\"labels\": [], \"raw_preds\": [], \"rounded_preds\": [], \"metadata\": []}\n",
    "\n",
    "for img, label, metadata in tqdm(test_set):\n",
    "    with torch.no_grad():\n",
    "        results[\"labels\"].append(label)\n",
    "        pred = model(img.unsqueeze(0))\n",
    "        pred = predict(pred.detach())\n",
    "        results[\"raw_preds\"].append(pred)\n",
    "        results[\"rounded_preds\"].append(threshold(pred))\n",
    "        results[\"metadata\"].append(metadata)\n"
   ]
  },
  {
   "cell_type": "code",
   "execution_count": 16,
   "metadata": {},
   "outputs": [
    {
     "name": "stdout",
     "output_type": "stream",
     "text": [
      "Precision:\t0.8700696055684455\tRecall:\t0.9615384615384616\n",
      "False Negatives: 15\n",
      "False Positives: 56\n",
      "True Positives: 375\n",
      "True Negatives: 178\n",
      "Accuracy: 0.8862179487179487\n",
      "F Measure: 0.9135200974421438\n"
     ]
    }
   ],
   "source": [
    "# visualize non-rounded wrong preds and non-rounded correct preds (hists?)\n",
    "#create cm / ravel / roc curves\n",
    "from sklearn.metrics import confusion_matrix\n",
    "\n",
    "def custom_threshold(pred):\n",
    "    return 1.0 if pred > 0.90 else 0.0\n",
    "\n",
    "results[\"custom_thresholded\"] = [custom_threshold(result) for result in results[\"raw_preds\"]]\n",
    "\n",
    "cm = confusion_matrix(results[\"labels\"], results[\"custom_thresholded\"])\n",
    "\n",
    "# need to do better than 98 false positives and 3 false negatives. (the 3 false negatives are .4, and two\n",
    "# very very close to 0)\n",
    "\n",
    "def print_stats(cmat):\n",
    "    tn, fp, fn, tp = cmat.ravel()\n",
    "    precision = tp/(tp+fp)\n",
    "    recall = tp/(tp+fn)\n",
    "\n",
    "    print(f\"Precision:\\t{precision}\\tRecall:\\t{recall}\")\n",
    "    print(f\"False Negatives: {fn}\")\n",
    "    print(f\"False Positives: {fp}\")\n",
    "    print(f\"True Positives: {tp}\")\n",
    "    print(f\"True Negatives: {tn}\")\n",
    "    print(f'Accuracy: {(tn+tp)/len(results[\"labels\"])}')\n",
    "    print(f\"F Measure: {2*((precision*recall)/(precision+recall))}\")\n",
    "    \n",
    "print_stats(cm)"
   ]
  },
  {
   "cell_type": "code",
   "execution_count": 15,
   "metadata": {},
   "outputs": [
    {
     "name": "stdout",
     "output_type": "stream",
     "text": [
      "Best Threshold: 0.9000000000000001\n"
     ]
    }
   ],
   "source": [
    "def pred_threshold(pred, threshold):\n",
    "    return 1.0 if pred > threshold else 0.0\n",
    "\n",
    "# Lets find the optimal threshold for this CNN.\n",
    "thresholds = np.arange(0.2, 100.0, 0.1)\n",
    "best_threshold = 0.0\n",
    "incorrects = 9999\n",
    "for thresh in thresholds:\n",
    "    these_results = [pred_threshold(r, thresh) for r in results[\"raw_preds\"]]\n",
    "    cm = confusion_matrix(results[\"labels\"], these_results)\n",
    "    tn, fp, fn, tp = cm.ravel()\n",
    "    if fp + fn < incorrects:\n",
    "        incorrects = fp + fn\n",
    "        best_threshold = thresh\n",
    "print(f\"Best Threshold: {best_threshold}\")"
   ]
  },
  {
   "cell_type": "code",
   "execution_count": 17,
   "metadata": {},
   "outputs": [
    {
     "data": {
      "text/html": [
       "<div>\n",
       "<style scoped>\n",
       "    .dataframe tbody tr th:only-of-type {\n",
       "        vertical-align: middle;\n",
       "    }\n",
       "\n",
       "    .dataframe tbody tr th {\n",
       "        vertical-align: top;\n",
       "    }\n",
       "\n",
       "    .dataframe thead th {\n",
       "        text-align: right;\n",
       "    }\n",
       "</style>\n",
       "<table border=\"1\" class=\"dataframe\">\n",
       "  <thead>\n",
       "    <tr style=\"text-align: right;\">\n",
       "      <th></th>\n",
       "      <th>0</th>\n",
       "    </tr>\n",
       "  </thead>\n",
       "  <tbody>\n",
       "    <tr>\n",
       "      <td>count</td>\n",
       "      <td>56.000000</td>\n",
       "    </tr>\n",
       "    <tr>\n",
       "      <td>mean</td>\n",
       "      <td>0.973093</td>\n",
       "    </tr>\n",
       "    <tr>\n",
       "      <td>std</td>\n",
       "      <td>0.032021</td>\n",
       "    </tr>\n",
       "    <tr>\n",
       "      <td>min</td>\n",
       "      <td>0.900933</td>\n",
       "    </tr>\n",
       "    <tr>\n",
       "      <td>25%</td>\n",
       "      <td>0.949368</td>\n",
       "    </tr>\n",
       "    <tr>\n",
       "      <td>50%</td>\n",
       "      <td>0.989345</td>\n",
       "    </tr>\n",
       "    <tr>\n",
       "      <td>75%</td>\n",
       "      <td>0.998175</td>\n",
       "    </tr>\n",
       "    <tr>\n",
       "      <td>max</td>\n",
       "      <td>0.999999</td>\n",
       "    </tr>\n",
       "  </tbody>\n",
       "</table>\n",
       "</div>"
      ],
      "text/plain": [
       "               0\n",
       "count  56.000000\n",
       "mean    0.973093\n",
       "std     0.032021\n",
       "min     0.900933\n",
       "25%     0.949368\n",
       "50%     0.989345\n",
       "75%     0.998175\n",
       "max     0.999999"
      ]
     },
     "execution_count": 17,
     "metadata": {},
     "output_type": "execute_result"
    }
   ],
   "source": [
    "import pandas as pd\n",
    "# is there a better threshold than .5?\n",
    "#for i, pred in enumerate(results[\"raw_preds\"]):\n",
    "#    if results[\"custom_thresholded\"][i] != results[\"labels\"][i]:\n",
    "#        print(f'Pred: {pred}\\tLabel: {results[\"labels\"][i]}')\n",
    "              \n",
    "false_positives = [y for i, y in enumerate(results[\"raw_preds\"]) if\n",
    "                   results[\"custom_thresholded\"][i] != results[\"labels\"][i] and results[\"labels\"][i] == 0]\n",
    "              \n",
    "false_negatives = [y for i, y in enumerate(results[\"raw_preds\"]) if\n",
    "                   results[\"custom_thresholded\"][i] != results[\"labels\"][i] and results[\"labels\"][i] == 1]\n",
    "df = pd.DataFrame(false_positives)\n",
    "df.describe()"
   ]
  },
  {
   "cell_type": "code",
   "execution_count": 18,
   "metadata": {},
   "outputs": [
    {
     "data": {
      "text/html": [
       "<div>\n",
       "<style scoped>\n",
       "    .dataframe tbody tr th:only-of-type {\n",
       "        vertical-align: middle;\n",
       "    }\n",
       "\n",
       "    .dataframe tbody tr th {\n",
       "        vertical-align: top;\n",
       "    }\n",
       "\n",
       "    .dataframe thead th {\n",
       "        text-align: right;\n",
       "    }\n",
       "</style>\n",
       "<table border=\"1\" class=\"dataframe\">\n",
       "  <thead>\n",
       "    <tr style=\"text-align: right;\">\n",
       "      <th></th>\n",
       "      <th>0</th>\n",
       "    </tr>\n",
       "  </thead>\n",
       "  <tbody>\n",
       "    <tr>\n",
       "      <td>count</td>\n",
       "      <td>15.000000</td>\n",
       "    </tr>\n",
       "    <tr>\n",
       "      <td>mean</td>\n",
       "      <td>0.644503</td>\n",
       "    </tr>\n",
       "    <tr>\n",
       "      <td>std</td>\n",
       "      <td>0.274324</td>\n",
       "    </tr>\n",
       "    <tr>\n",
       "      <td>min</td>\n",
       "      <td>0.067834</td>\n",
       "    </tr>\n",
       "    <tr>\n",
       "      <td>25%</td>\n",
       "      <td>0.532752</td>\n",
       "    </tr>\n",
       "    <tr>\n",
       "      <td>50%</td>\n",
       "      <td>0.729338</td>\n",
       "    </tr>\n",
       "    <tr>\n",
       "      <td>75%</td>\n",
       "      <td>0.866259</td>\n",
       "    </tr>\n",
       "    <tr>\n",
       "      <td>max</td>\n",
       "      <td>0.897955</td>\n",
       "    </tr>\n",
       "  </tbody>\n",
       "</table>\n",
       "</div>"
      ],
      "text/plain": [
       "               0\n",
       "count  15.000000\n",
       "mean    0.644503\n",
       "std     0.274324\n",
       "min     0.067834\n",
       "25%     0.532752\n",
       "50%     0.729338\n",
       "75%     0.866259\n",
       "max     0.897955"
      ]
     },
     "execution_count": 18,
     "metadata": {},
     "output_type": "execute_result"
    }
   ],
   "source": [
    "neg_df = pd.DataFrame(false_negatives)\n",
    "neg_df.describe()"
   ]
  },
  {
   "cell_type": "code",
   "execution_count": 21,
   "metadata": {},
   "outputs": [
    {
     "data": {
      "text/plain": [
       "array([[<matplotlib.axes._subplots.AxesSubplot object at 0x7fc8d297b690>]],\n",
       "      dtype=object)"
      ]
     },
     "execution_count": 21,
     "metadata": {},
     "output_type": "execute_result"
    },
    {
     "data": {
      "image/png": "[encoded data removed]",
      "text/plain": [
       "<Figure size 432x288 with 1 Axes>"
      ]
     },
     "metadata": {
      "needs_background": "light"
     },
     "output_type": "display_data"
    }
   ],
   "source": [
    "df.hist()"
   ]
  },
  {
   "cell_type": "code",
   "execution_count": 22,
   "metadata": {},
   "outputs": [
    {
     "data": {
      "text/plain": [
       "array([[<matplotlib.axes._subplots.AxesSubplot object at 0x7fc8d288b610>]],\n",
       "      dtype=object)"
      ]
     },
     "execution_count": 22,
     "metadata": {},
     "output_type": "execute_result"
    },
    {
     "data": {
      "image/png": "[encoded data removed]",
      "text/plain": [
       "<Figure size 432x288 with 1 Axes>"
      ]
     },
     "metadata": {
      "needs_background": "light"
     },
     "output_type": "display_data"
    }
   ],
   "source": [
    "neg_df.hist()"
   ]
  },
  {
   "cell_type": "code",
   "execution_count": 23,
   "metadata": {},
   "outputs": [],
   "source": [
    "# The histograms show room for an 'Unsure' area between .4 and .94 in which the result\n",
    "# could alert the user."
   ]
  },
  {
   "cell_type": "code",
   "execution_count": 26,
   "metadata": {},
   "outputs": [
    {
     "data": {
      "image/png": "[encoded data removed]",
      "text/plain": [
       "<Figure size 432x288 with 2 Axes>"
      ]
     },
     "metadata": {
      "needs_background": "light"
     },
     "output_type": "display_data"
    }
   ],
   "source": [
    "from torchray.attribution.common import Probe, get_module\n",
    "from torchray.attribution.grad_cam import gradient_to_grad_cam_saliency\n",
    "from torchray.benchmark import plot_example\n",
    "\n",
    "# Grad-CAM backprop.\n",
    "saliency_layer = get_module(model, 'conv12')\n",
    "\n",
    "probe = Probe(saliency_layer, target='output')\n",
    "\n",
    "y = model(test_set[21][0].unsqueeze(0))\n",
    "y.backward()\n",
    "\n",
    "saliency = gradient_to_grad_cam_saliency(probe.data[0])\n",
    "\n",
    "# Plots.\n",
    "plot_example(test_set[21][0].unsqueeze(0), saliency, 'grad-cam backprop', 1, 0)"
   ]
  },
  {
   "cell_type": "markdown",
   "metadata": {},
   "source": []
  },
  {
   "cell_type": "code",
   "execution_count": null,
   "metadata": {},
   "outputs": [],
   "source": []
  }
 ],
 "metadata": {
  "kernelspec": {
   "display_name": "Python 3",
   "language": "python",
   "name": "python3"
  },
  "language_info": {
   "codemirror_mode": {
    "name": "ipython",
    "version": 3
   },
   "file_extension": ".py",
   "mimetype": "text/x-python",
   "name": "python",
   "nbconvert_exporter": "python",
   "pygments_lexer": "ipython3",
   "version": "3.7.4"
  }
 },
 "nbformat": 4,
 "nbformat_minor": 2
}
